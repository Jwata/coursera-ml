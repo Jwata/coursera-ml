{
 "cells": [
  {
   "cell_type": "code",
   "execution_count": 1,
   "metadata": {},
   "outputs": [],
   "source": [
    "import pandas as pd\n",
    "import matplotlib.pyplot as plt\n",
    "%matplotlib inline\n",
    "\n",
    "import seaborn as sns\n",
    "sns.set()"
   ]
  },
  {
   "cell_type": "code",
   "execution_count": 2,
   "metadata": {},
   "outputs": [],
   "source": [
    "train = pd.read_csv('/data/covertype2/train.csv')"
   ]
  },
  {
   "cell_type": "code",
   "execution_count": 3,
   "metadata": {},
   "outputs": [
    {
     "data": {
      "text/html": [
       "<div>\n",
       "<table border=\"1\" class=\"dataframe\">\n",
       "  <thead>\n",
       "    <tr style=\"text-align: right;\">\n",
       "      <th></th>\n",
       "      <th>Elevation</th>\n",
       "      <th>Aspect</th>\n",
       "      <th>Slope</th>\n",
       "      <th>Horizontal_Distance_To_Hydrology</th>\n",
       "      <th>Vertical_Distance_To_Hydrology</th>\n",
       "      <th>Horizontal_Distance_To_Roadways</th>\n",
       "      <th>Hillshade_9am</th>\n",
       "      <th>Hillshade_Noon</th>\n",
       "      <th>Hillshade_3pm</th>\n",
       "      <th>Horizontal_Distance_To_Fire_Points</th>\n",
       "      <th>Wild_Type</th>\n",
       "      <th>Soil_Type</th>\n",
       "      <th>Target</th>\n",
       "    </tr>\n",
       "  </thead>\n",
       "  <tbody>\n",
       "    <tr>\n",
       "      <th>0</th>\n",
       "      <td>3122</td>\n",
       "      <td>266</td>\n",
       "      <td>10</td>\n",
       "      <td>433</td>\n",
       "      <td>75</td>\n",
       "      <td>3069</td>\n",
       "      <td>195</td>\n",
       "      <td>245</td>\n",
       "      <td>188</td>\n",
       "      <td>451</td>\n",
       "      <td>Comanche</td>\n",
       "      <td>Catamount family - Rock outcrop - Leighcan fam...</td>\n",
       "      <td>1</td>\n",
       "    </tr>\n",
       "    <tr>\n",
       "      <th>1</th>\n",
       "      <td>3018</td>\n",
       "      <td>308</td>\n",
       "      <td>15</td>\n",
       "      <td>60</td>\n",
       "      <td>14</td>\n",
       "      <td>5359</td>\n",
       "      <td>177</td>\n",
       "      <td>229</td>\n",
       "      <td>192</td>\n",
       "      <td>4546</td>\n",
       "      <td>Rawah</td>\n",
       "      <td>Como - Legault families complex, extremely stony.</td>\n",
       "      <td>1</td>\n",
       "    </tr>\n",
       "    <tr>\n",
       "      <th>2</th>\n",
       "      <td>3146</td>\n",
       "      <td>151</td>\n",
       "      <td>12</td>\n",
       "      <td>541</td>\n",
       "      <td>-2</td>\n",
       "      <td>5887</td>\n",
       "      <td>236</td>\n",
       "      <td>240</td>\n",
       "      <td>132</td>\n",
       "      <td>1371</td>\n",
       "      <td>Rawah</td>\n",
       "      <td>Como - Legault families complex, extremely stony.</td>\n",
       "      <td>2</td>\n",
       "    </tr>\n",
       "    <tr>\n",
       "      <th>3</th>\n",
       "      <td>2980</td>\n",
       "      <td>163</td>\n",
       "      <td>6</td>\n",
       "      <td>553</td>\n",
       "      <td>21</td>\n",
       "      <td>3538</td>\n",
       "      <td>226</td>\n",
       "      <td>242</td>\n",
       "      <td>149</td>\n",
       "      <td>1087</td>\n",
       "      <td>Rawah</td>\n",
       "      <td>Como - Legault families complex, extremely stony.</td>\n",
       "      <td>2</td>\n",
       "    </tr>\n",
       "    <tr>\n",
       "      <th>4</th>\n",
       "      <td>2972</td>\n",
       "      <td>187</td>\n",
       "      <td>16</td>\n",
       "      <td>255</td>\n",
       "      <td>109</td>\n",
       "      <td>6390</td>\n",
       "      <td>220</td>\n",
       "      <td>250</td>\n",
       "      <td>158</td>\n",
       "      <td>4119</td>\n",
       "      <td>Rawah</td>\n",
       "      <td>Como family - Rock land - Legault family compl...</td>\n",
       "      <td>2</td>\n",
       "    </tr>\n",
       "  </tbody>\n",
       "</table>\n",
       "</div>"
      ],
      "text/plain": [
       "   Elevation  Aspect  Slope  Horizontal_Distance_To_Hydrology  \\\n",
       "0       3122     266     10                               433   \n",
       "1       3018     308     15                                60   \n",
       "2       3146     151     12                               541   \n",
       "3       2980     163      6                               553   \n",
       "4       2972     187     16                               255   \n",
       "\n",
       "   Vertical_Distance_To_Hydrology  Horizontal_Distance_To_Roadways  \\\n",
       "0                              75                             3069   \n",
       "1                              14                             5359   \n",
       "2                              -2                             5887   \n",
       "3                              21                             3538   \n",
       "4                             109                             6390   \n",
       "\n",
       "   Hillshade_9am  Hillshade_Noon  Hillshade_3pm  \\\n",
       "0            195             245            188   \n",
       "1            177             229            192   \n",
       "2            236             240            132   \n",
       "3            226             242            149   \n",
       "4            220             250            158   \n",
       "\n",
       "   Horizontal_Distance_To_Fire_Points Wild_Type  \\\n",
       "0                                 451  Comanche   \n",
       "1                                4546     Rawah   \n",
       "2                                1371     Rawah   \n",
       "3                                1087     Rawah   \n",
       "4                                4119     Rawah   \n",
       "\n",
       "                                           Soil_Type  Target  \n",
       "0  Catamount family - Rock outcrop - Leighcan fam...       1  \n",
       "1  Como - Legault families complex, extremely stony.       1  \n",
       "2  Como - Legault families complex, extremely stony.       2  \n",
       "3  Como - Legault families complex, extremely stony.       2  \n",
       "4  Como family - Rock land - Legault family compl...       2  "
      ]
     },
     "execution_count": 3,
     "metadata": {},
     "output_type": "execute_result"
    }
   ],
   "source": [
    "train.head()"
   ]
  },
  {
   "cell_type": "code",
   "execution_count": 4,
   "metadata": {},
   "outputs": [
    {
     "data": {
      "text/plain": [
       "(Index(['Elevation', 'Aspect', 'Slope', 'Horizontal_Distance_To_Hydrology',\n",
       "        'Vertical_Distance_To_Hydrology', 'Horizontal_Distance_To_Roadways',\n",
       "        'Hillshade_9am', 'Hillshade_Noon', 'Hillshade_3pm',\n",
       "        'Horizontal_Distance_To_Fire_Points', 'Wild_Type', 'Soil_Type',\n",
       "        'Target'],\n",
       "       dtype='object'), 13)"
      ]
     },
     "execution_count": 4,
     "metadata": {},
     "output_type": "execute_result"
    }
   ],
   "source": [
    "train.columns, len(train.columns)"
   ]
  },
  {
   "cell_type": "code",
   "execution_count": 5,
   "metadata": {},
   "outputs": [
    {
     "data": {
      "text/html": [
       "<div>\n",
       "<table border=\"1\" class=\"dataframe\">\n",
       "  <thead>\n",
       "    <tr style=\"text-align: right;\">\n",
       "      <th></th>\n",
       "      <th>Elevation</th>\n",
       "      <th>Aspect</th>\n",
       "      <th>Slope</th>\n",
       "      <th>Horizontal_Distance_To_Hydrology</th>\n",
       "      <th>Vertical_Distance_To_Hydrology</th>\n",
       "      <th>Horizontal_Distance_To_Roadways</th>\n",
       "      <th>Hillshade_9am</th>\n",
       "      <th>Hillshade_Noon</th>\n",
       "      <th>Hillshade_3pm</th>\n",
       "      <th>Horizontal_Distance_To_Fire_Points</th>\n",
       "      <th>Target</th>\n",
       "    </tr>\n",
       "  </thead>\n",
       "  <tbody>\n",
       "    <tr>\n",
       "      <th>count</th>\n",
       "      <td>464200.000000</td>\n",
       "      <td>464200.000000</td>\n",
       "      <td>464200.000000</td>\n",
       "      <td>464200.00000</td>\n",
       "      <td>464200.000000</td>\n",
       "      <td>464200.000000</td>\n",
       "      <td>464200.000000</td>\n",
       "      <td>464200.000000</td>\n",
       "      <td>464200.000000</td>\n",
       "      <td>464200.000000</td>\n",
       "      <td>464200.000000</td>\n",
       "    </tr>\n",
       "    <tr>\n",
       "      <th>mean</th>\n",
       "      <td>2959.142975</td>\n",
       "      <td>155.637225</td>\n",
       "      <td>14.099196</td>\n",
       "      <td>269.38391</td>\n",
       "      <td>46.376728</td>\n",
       "      <td>2349.161896</td>\n",
       "      <td>212.170093</td>\n",
       "      <td>223.322594</td>\n",
       "      <td>142.507753</td>\n",
       "      <td>1978.920431</td>\n",
       "      <td>2.051564</td>\n",
       "    </tr>\n",
       "    <tr>\n",
       "      <th>std</th>\n",
       "      <td>279.830360</td>\n",
       "      <td>111.906677</td>\n",
       "      <td>7.486170</td>\n",
       "      <td>212.53314</td>\n",
       "      <td>58.297337</td>\n",
       "      <td>1558.964726</td>\n",
       "      <td>26.746074</td>\n",
       "      <td>19.764233</td>\n",
       "      <td>38.265871</td>\n",
       "      <td>1322.501407</td>\n",
       "      <td>1.396749</td>\n",
       "    </tr>\n",
       "    <tr>\n",
       "      <th>min</th>\n",
       "      <td>1859.000000</td>\n",
       "      <td>0.000000</td>\n",
       "      <td>0.000000</td>\n",
       "      <td>0.00000</td>\n",
       "      <td>-173.000000</td>\n",
       "      <td>0.000000</td>\n",
       "      <td>0.000000</td>\n",
       "      <td>0.000000</td>\n",
       "      <td>0.000000</td>\n",
       "      <td>0.000000</td>\n",
       "      <td>1.000000</td>\n",
       "    </tr>\n",
       "    <tr>\n",
       "      <th>25%</th>\n",
       "      <td>2809.000000</td>\n",
       "      <td>58.000000</td>\n",
       "      <td>9.000000</td>\n",
       "      <td>108.00000</td>\n",
       "      <td>7.000000</td>\n",
       "      <td>1106.000000</td>\n",
       "      <td>198.000000</td>\n",
       "      <td>213.000000</td>\n",
       "      <td>119.000000</td>\n",
       "      <td>1024.000000</td>\n",
       "      <td>1.000000</td>\n",
       "    </tr>\n",
       "    <tr>\n",
       "      <th>50%</th>\n",
       "      <td>2996.000000</td>\n",
       "      <td>127.000000</td>\n",
       "      <td>13.000000</td>\n",
       "      <td>218.00000</td>\n",
       "      <td>29.000000</td>\n",
       "      <td>1994.000000</td>\n",
       "      <td>218.000000</td>\n",
       "      <td>226.000000</td>\n",
       "      <td>143.000000</td>\n",
       "      <td>1710.000000</td>\n",
       "      <td>2.000000</td>\n",
       "    </tr>\n",
       "    <tr>\n",
       "      <th>75%</th>\n",
       "      <td>3163.000000</td>\n",
       "      <td>260.000000</td>\n",
       "      <td>18.000000</td>\n",
       "      <td>384.00000</td>\n",
       "      <td>69.000000</td>\n",
       "      <td>3326.000000</td>\n",
       "      <td>231.000000</td>\n",
       "      <td>237.000000</td>\n",
       "      <td>168.000000</td>\n",
       "      <td>2550.000000</td>\n",
       "      <td>2.000000</td>\n",
       "    </tr>\n",
       "    <tr>\n",
       "      <th>max</th>\n",
       "      <td>3858.000000</td>\n",
       "      <td>360.000000</td>\n",
       "      <td>66.000000</td>\n",
       "      <td>1390.00000</td>\n",
       "      <td>601.000000</td>\n",
       "      <td>7117.000000</td>\n",
       "      <td>254.000000</td>\n",
       "      <td>254.000000</td>\n",
       "      <td>254.000000</td>\n",
       "      <td>7172.000000</td>\n",
       "      <td>7.000000</td>\n",
       "    </tr>\n",
       "  </tbody>\n",
       "</table>\n",
       "</div>"
      ],
      "text/plain": [
       "           Elevation         Aspect          Slope  \\\n",
       "count  464200.000000  464200.000000  464200.000000   \n",
       "mean     2959.142975     155.637225      14.099196   \n",
       "std       279.830360     111.906677       7.486170   \n",
       "min      1859.000000       0.000000       0.000000   \n",
       "25%      2809.000000      58.000000       9.000000   \n",
       "50%      2996.000000     127.000000      13.000000   \n",
       "75%      3163.000000     260.000000      18.000000   \n",
       "max      3858.000000     360.000000      66.000000   \n",
       "\n",
       "       Horizontal_Distance_To_Hydrology  Vertical_Distance_To_Hydrology  \\\n",
       "count                      464200.00000                   464200.000000   \n",
       "mean                          269.38391                       46.376728   \n",
       "std                           212.53314                       58.297337   \n",
       "min                             0.00000                     -173.000000   \n",
       "25%                           108.00000                        7.000000   \n",
       "50%                           218.00000                       29.000000   \n",
       "75%                           384.00000                       69.000000   \n",
       "max                          1390.00000                      601.000000   \n",
       "\n",
       "       Horizontal_Distance_To_Roadways  Hillshade_9am  Hillshade_Noon  \\\n",
       "count                    464200.000000  464200.000000   464200.000000   \n",
       "mean                       2349.161896     212.170093      223.322594   \n",
       "std                        1558.964726      26.746074       19.764233   \n",
       "min                           0.000000       0.000000        0.000000   \n",
       "25%                        1106.000000     198.000000      213.000000   \n",
       "50%                        1994.000000     218.000000      226.000000   \n",
       "75%                        3326.000000     231.000000      237.000000   \n",
       "max                        7117.000000     254.000000      254.000000   \n",
       "\n",
       "       Hillshade_3pm  Horizontal_Distance_To_Fire_Points         Target  \n",
       "count  464200.000000                       464200.000000  464200.000000  \n",
       "mean      142.507753                         1978.920431       2.051564  \n",
       "std        38.265871                         1322.501407       1.396749  \n",
       "min         0.000000                            0.000000       1.000000  \n",
       "25%       119.000000                         1024.000000       1.000000  \n",
       "50%       143.000000                         1710.000000       2.000000  \n",
       "75%       168.000000                         2550.000000       2.000000  \n",
       "max       254.000000                         7172.000000       7.000000  "
      ]
     },
     "execution_count": 5,
     "metadata": {},
     "output_type": "execute_result"
    }
   ],
   "source": [
    "train.describe()"
   ]
  },
  {
   "cell_type": "markdown",
   "metadata": {},
   "source": [
    "# Data exploring"
   ]
  },
  {
   "cell_type": "markdown",
   "metadata": {},
   "source": [
    "## Target"
   ]
  },
  {
   "cell_type": "code",
   "execution_count": 116,
   "metadata": {},
   "outputs": [
    {
     "data": {
      "text/plain": [
       "<matplotlib.axes._subplots.AxesSubplot at 0x7f54076cc7b8>"
      ]
     },
     "execution_count": 116,
     "metadata": {},
     "output_type": "execute_result"
    },
    {
     "data": {
      "image/png": "[encoded data removed]",
      "text/plain": [
       "<matplotlib.figure.Figure at 0x7f54074547b8>"
      ]
     },
     "metadata": {},
     "output_type": "display_data"
    }
   ],
   "source": [
    "train['Target'].hist(bins=range(1, 8))"
   ]
  },
  {
   "cell_type": "code",
   "execution_count": 117,
   "metadata": {},
   "outputs": [
    {
     "data": {
      "text/plain": [
       "2    226335\n",
       "1    169268\n",
       "3     28509\n",
       "7     16398\n",
       "6     13866\n",
       "5      7593\n",
       "4      2231\n",
       "Name: Target, dtype: int64"
      ]
     },
     "execution_count": 117,
     "metadata": {},
     "output_type": "execute_result"
    }
   ],
   "source": [
    "train['Target'].value_counts()"
   ]
  },
  {
   "cell_type": "markdown",
   "metadata": {},
   "source": [
    "## Features"
   ]
  },
  {
   "cell_type": "markdown",
   "metadata": {},
   "source": [
    "### Elevation"
   ]
  },
  {
   "cell_type": "code",
   "execution_count": 7,
   "metadata": {},
   "outputs": [
    {
     "data": {
      "text/plain": [
       "0    3122\n",
       "1    3018\n",
       "2    3146\n",
       "3    2980\n",
       "4    2972\n",
       "Name: Elevation, dtype: int64"
      ]
     },
     "execution_count": 7,
     "metadata": {},
     "output_type": "execute_result"
    }
   ],
   "source": [
    "train['Elevation'].head()"
   ]
  },
  {
   "cell_type": "code",
   "execution_count": 8,
   "metadata": {},
   "outputs": [
    {
     "data": {
      "text/plain": [
       "count    464200.000000\n",
       "mean       2959.142975\n",
       "std         279.830360\n",
       "min        1859.000000\n",
       "25%        2809.000000\n",
       "50%        2996.000000\n",
       "75%        3163.000000\n",
       "max        3858.000000\n",
       "Name: Elevation, dtype: float64"
      ]
     },
     "execution_count": 8,
     "metadata": {},
     "output_type": "execute_result"
    }
   ],
   "source": [
    "train['Elevation'].describe()"
   ]
  },
  {
   "cell_type": "code",
   "execution_count": 18,
   "metadata": {},
   "outputs": [],
   "source": [
    "max_elev = train['Elevation'].max()\n",
    "min_elev = train['Elevation'].min()"
   ]
  },
  {
   "cell_type": "code",
   "execution_count": 59,
   "metadata": {},
   "outputs": [
    {
     "data": {
      "text/plain": [
       "Target\n",
       "1    Axes(0.125,0.125;0.775x0.755)\n",
       "2    Axes(0.125,0.125;0.775x0.755)\n",
       "3    Axes(0.125,0.125;0.775x0.755)\n",
       "4    Axes(0.125,0.125;0.775x0.755)\n",
       "5    Axes(0.125,0.125;0.775x0.755)\n",
       "6    Axes(0.125,0.125;0.775x0.755)\n",
       "7    Axes(0.125,0.125;0.775x0.755)\n",
       "Name: Elevation, dtype: object"
      ]
     },
     "execution_count": 59,
     "metadata": {},
     "output_type": "execute_result"
    },
    {
     "data": {
      "image/png": "[encoded data removed]",
      "text/plain": [
       "<matplotlib.figure.Figure at 0x7f5409cd26d8>"
      ]
     },
     "metadata": {},
     "output_type": "display_data"
    }
   ],
   "source": [
    "train.groupby('Target')['Elevation'].plot.hist(alpha=0.5)"
   ]
  },
  {
   "cell_type": "markdown",
   "metadata": {},
   "source": [
    "### Aspect"
   ]
  },
  {
   "cell_type": "code",
   "execution_count": 24,
   "metadata": {},
   "outputs": [
    {
     "data": {
      "text/plain": [
       "0    266\n",
       "1    308\n",
       "2    151\n",
       "3    163\n",
       "4    187\n",
       "Name: Aspect, dtype: int64"
      ]
     },
     "execution_count": 24,
     "metadata": {},
     "output_type": "execute_result"
    }
   ],
   "source": [
    "train['Aspect'].head()"
   ]
  },
  {
   "cell_type": "code",
   "execution_count": 25,
   "metadata": {},
   "outputs": [
    {
     "data": {
      "text/plain": [
       "count    464200.000000\n",
       "mean        155.637225\n",
       "std         111.906677\n",
       "min           0.000000\n",
       "25%          58.000000\n",
       "50%         127.000000\n",
       "75%         260.000000\n",
       "max         360.000000\n",
       "Name: Aspect, dtype: float64"
      ]
     },
     "execution_count": 25,
     "metadata": {},
     "output_type": "execute_result"
    }
   ],
   "source": [
    "train['Aspect'].describe()"
   ]
  },
  {
   "cell_type": "code",
   "execution_count": 58,
   "metadata": {},
   "outputs": [
    {
     "data": {
      "text/plain": [
       "Target\n",
       "1    Axes(0.125,0.125;0.775x0.755)\n",
       "2    Axes(0.125,0.125;0.775x0.755)\n",
       "3    Axes(0.125,0.125;0.775x0.755)\n",
       "4    Axes(0.125,0.125;0.775x0.755)\n",
       "5    Axes(0.125,0.125;0.775x0.755)\n",
       "6    Axes(0.125,0.125;0.775x0.755)\n",
       "7    Axes(0.125,0.125;0.775x0.755)\n",
       "Name: Aspect, dtype: object"
      ]
     },
     "execution_count": 58,
     "metadata": {},
     "output_type": "execute_result"
    },
    {
     "data": {
      "image/png": "[encoded data removed]",
      "text/plain": [
       "<matplotlib.figure.Figure at 0x7f5408e55e80>"
      ]
     },
     "metadata": {},
     "output_type": "display_data"
    }
   ],
   "source": [
    "train.groupby('Target')['Aspect'].plot.hist(alpha=0.5)"
   ]
  },
  {
   "cell_type": "markdown",
   "metadata": {},
   "source": [
    "### Slope"
   ]
  },
  {
   "cell_type": "code",
   "execution_count": 36,
   "metadata": {},
   "outputs": [
    {
     "data": {
      "text/plain": [
       "count    464200.000000\n",
       "mean         14.099196\n",
       "std           7.486170\n",
       "min           0.000000\n",
       "25%           9.000000\n",
       "50%          13.000000\n",
       "75%          18.000000\n",
       "max          66.000000\n",
       "Name: Slope, dtype: float64"
      ]
     },
     "execution_count": 36,
     "metadata": {},
     "output_type": "execute_result"
    }
   ],
   "source": [
    "train['Slope'].describe()"
   ]
  },
  {
   "cell_type": "code",
   "execution_count": 57,
   "metadata": {},
   "outputs": [
    {
     "data": {
      "text/plain": [
       "Target\n",
       "1    Axes(0.125,0.125;0.775x0.755)\n",
       "2    Axes(0.125,0.125;0.775x0.755)\n",
       "3    Axes(0.125,0.125;0.775x0.755)\n",
       "4    Axes(0.125,0.125;0.775x0.755)\n",
       "5    Axes(0.125,0.125;0.775x0.755)\n",
       "6    Axes(0.125,0.125;0.775x0.755)\n",
       "7    Axes(0.125,0.125;0.775x0.755)\n",
       "Name: Slope, dtype: object"
      ]
     },
     "execution_count": 57,
     "metadata": {},
     "output_type": "execute_result"
    },
    {
     "data": {
      "image/png": "[encoded data removed]",
      "text/plain": [
       "<matplotlib.figure.Figure at 0x7f540943b080>"
      ]
     },
     "metadata": {},
     "output_type": "display_data"
    }
   ],
   "source": [
    "train.groupby('Target')['Slope'].plot.hist(alpha=0.5)"
   ]
  },
  {
   "cell_type": "markdown",
   "metadata": {},
   "source": [
    "### Horizontal_Distance_To_Hydrology"
   ]
  },
  {
   "cell_type": "code",
   "execution_count": 62,
   "metadata": {},
   "outputs": [
    {
     "data": {
      "text/plain": [
       "Target\n",
       "1    Axes(0.125,0.125;0.775x0.755)\n",
       "2    Axes(0.125,0.125;0.775x0.755)\n",
       "3    Axes(0.125,0.125;0.775x0.755)\n",
       "4    Axes(0.125,0.125;0.775x0.755)\n",
       "5    Axes(0.125,0.125;0.775x0.755)\n",
       "6    Axes(0.125,0.125;0.775x0.755)\n",
       "7    Axes(0.125,0.125;0.775x0.755)\n",
       "Name: Horizontal_Distance_To_Hydrology, dtype: object"
      ]
     },
     "execution_count": 62,
     "metadata": {},
     "output_type": "execute_result"
    },
    {
     "data": {
      "image/png": "[encoded data removed]",
      "text/plain": [
       "<matplotlib.figure.Figure at 0x7f5408fb46a0>"
      ]
     },
     "metadata": {},
     "output_type": "display_data"
    }
   ],
   "source": [
    "train.groupby('Target')['Horizontal_Distance_To_Hydrology'].plot.hist(alpha=0.5)"
   ]
  },
  {
   "cell_type": "code",
   "execution_count": 64,
   "metadata": {},
   "outputs": [
    {
     "data": {
      "text/plain": [
       "Target\n",
       "1    Axes(0.125,0.125;0.775x0.755)\n",
       "2    Axes(0.125,0.125;0.775x0.755)\n",
       "3    Axes(0.125,0.125;0.775x0.755)\n",
       "4    Axes(0.125,0.125;0.775x0.755)\n",
       "5    Axes(0.125,0.125;0.775x0.755)\n",
       "6    Axes(0.125,0.125;0.775x0.755)\n",
       "7    Axes(0.125,0.125;0.775x0.755)\n",
       "Name: Vertical_Distance_To_Hydrology, dtype: object"
      ]
     },
     "execution_count": 64,
     "metadata": {},
     "output_type": "execute_result"
    },
    {
     "data": {
      "image/png": "[encoded data removed]",
      "text/plain": [
       "<matplotlib.figure.Figure at 0x7f5408403048>"
      ]
     },
     "metadata": {},
     "output_type": "display_data"
    }
   ],
   "source": [
    "train.groupby('Target')['Vertical_Distance_To_Hydrology'].plot.hist(alpha=0.5)"
   ]
  },
  {
   "cell_type": "code",
   "execution_count": 65,
   "metadata": {},
   "outputs": [
    {
     "data": {
      "text/plain": [
       "Target\n",
       "1    Axes(0.125,0.125;0.775x0.755)\n",
       "2    Axes(0.125,0.125;0.775x0.755)\n",
       "3    Axes(0.125,0.125;0.775x0.755)\n",
       "4    Axes(0.125,0.125;0.775x0.755)\n",
       "5    Axes(0.125,0.125;0.775x0.755)\n",
       "6    Axes(0.125,0.125;0.775x0.755)\n",
       "7    Axes(0.125,0.125;0.775x0.755)\n",
       "Name: Horizontal_Distance_To_Roadways, dtype: object"
      ]
     },
     "execution_count": 65,
     "metadata": {},
     "output_type": "execute_result"
    },
    {
     "data": {
      "image/png": "[encoded data removed]",
      "text/plain": [
       "<matplotlib.figure.Figure at 0x7f5409863748>"
      ]
     },
     "metadata": {},
     "output_type": "display_data"
    }
   ],
   "source": [
    "train.groupby('Target')['Horizontal_Distance_To_Roadways'].plot.hist(alpha=0.5)"
   ]
  },
  {
   "cell_type": "code",
   "execution_count": 66,
   "metadata": {},
   "outputs": [
    {
     "data": {
      "text/plain": [
       "Target\n",
       "1    Axes(0.125,0.125;0.775x0.755)\n",
       "2    Axes(0.125,0.125;0.775x0.755)\n",
       "3    Axes(0.125,0.125;0.775x0.755)\n",
       "4    Axes(0.125,0.125;0.775x0.755)\n",
       "5    Axes(0.125,0.125;0.775x0.755)\n",
       "6    Axes(0.125,0.125;0.775x0.755)\n",
       "7    Axes(0.125,0.125;0.775x0.755)\n",
       "Name: Hillshade_9am, dtype: object"
      ]
     },
     "execution_count": 66,
     "metadata": {},
     "output_type": "execute_result"
    },
    {
     "data": {
      "image/png": "[encoded data removed]",
      "text/plain": [
       "<matplotlib.figure.Figure at 0x7f54084fc320>"
      ]
     },
     "metadata": {},
     "output_type": "display_data"
    }
   ],
   "source": [
    "train.groupby('Target')['Hillshade_9am'].plot.hist(alpha=0.5)"
   ]
  },
  {
   "cell_type": "code",
   "execution_count": 67,
   "metadata": {},
   "outputs": [
    {
     "data": {
      "text/plain": [
       "Target\n",
       "1    Axes(0.125,0.125;0.775x0.755)\n",
       "2    Axes(0.125,0.125;0.775x0.755)\n",
       "3    Axes(0.125,0.125;0.775x0.755)\n",
       "4    Axes(0.125,0.125;0.775x0.755)\n",
       "5    Axes(0.125,0.125;0.775x0.755)\n",
       "6    Axes(0.125,0.125;0.775x0.755)\n",
       "7    Axes(0.125,0.125;0.775x0.755)\n",
       "Name: Hillshade_Noon, dtype: object"
      ]
     },
     "execution_count": 67,
     "metadata": {},
     "output_type": "execute_result"
    },
    {
     "data": {
      "image/png": "[encoded data removed]",
      "text/plain": [
       "<matplotlib.figure.Figure at 0x7f5407e04fd0>"
      ]
     },
     "metadata": {},
     "output_type": "display_data"
    }
   ],
   "source": [
    "train.groupby('Target')['Hillshade_Noon'].plot.hist(alpha=0.5)"
   ]
  },
  {
   "cell_type": "code",
   "execution_count": 68,
   "metadata": {},
   "outputs": [
    {
     "data": {
      "text/plain": [
       "Target\n",
       "1    Axes(0.125,0.125;0.775x0.755)\n",
       "2    Axes(0.125,0.125;0.775x0.755)\n",
       "3    Axes(0.125,0.125;0.775x0.755)\n",
       "4    Axes(0.125,0.125;0.775x0.755)\n",
       "5    Axes(0.125,0.125;0.775x0.755)\n",
       "6    Axes(0.125,0.125;0.775x0.755)\n",
       "7    Axes(0.125,0.125;0.775x0.755)\n",
       "Name: Hillshade_3pm, dtype: object"
      ]
     },
     "execution_count": 68,
     "metadata": {},
     "output_type": "execute_result"
    },
    {
     "data": {
      "image/png": "[encoded data removed]",
      "text/plain": [
       "<matplotlib.figure.Figure at 0x7f54088c4d30>"
      ]
     },
     "metadata": {},
     "output_type": "display_data"
    }
   ],
   "source": [
    "train.groupby('Target')['Hillshade_3pm'].plot.hist(alpha=0.5)"
   ]
  },
  {
   "cell_type": "code",
   "execution_count": 69,
   "metadata": {},
   "outputs": [
    {
     "data": {
      "text/plain": [
       "Target\n",
       "1    Axes(0.125,0.125;0.775x0.755)\n",
       "2    Axes(0.125,0.125;0.775x0.755)\n",
       "3    Axes(0.125,0.125;0.775x0.755)\n",
       "4    Axes(0.125,0.125;0.775x0.755)\n",
       "5    Axes(0.125,0.125;0.775x0.755)\n",
       "6    Axes(0.125,0.125;0.775x0.755)\n",
       "7    Axes(0.125,0.125;0.775x0.755)\n",
       "Name: Horizontal_Distance_To_Fire_Points, dtype: object"
      ]
     },
     "execution_count": 69,
     "metadata": {},
     "output_type": "execute_result"
    },
    {
     "data": {
      "image/png": "[encoded data removed]",
      "text/plain": [
       "<matplotlib.figure.Figure at 0x7f540951bd68>"
      ]
     },
     "metadata": {},
     "output_type": "display_data"
    }
   ],
   "source": [
    "train.groupby('Target')['Horizontal_Distance_To_Fire_Points'].plot.hist(alpha=0.5)"
   ]
  },
  {
   "cell_type": "code",
   "execution_count": 76,
   "metadata": {},
   "outputs": [
    {
     "data": {
      "text/plain": [
       "<matplotlib.axes._subplots.AxesSubplot at 0x7f5409392780>"
      ]
     },
     "execution_count": 76,
     "metadata": {},
     "output_type": "execute_result"
    },
    {
     "data": {
      "image/png": "[encoded data removed]",
      "text/plain": [
       "<matplotlib.figure.Figure at 0x7f54093f85f8>"
      ]
     },
     "metadata": {},
     "output_type": "display_data"
    }
   ],
   "source": [
    "train['Wild_Type'].value_counts().plot.bar()"
   ]
  },
  {
   "cell_type": "code",
   "execution_count": 111,
   "metadata": {},
   "outputs": [
    {
     "data": {
      "text/plain": [
       "<matplotlib.axes._subplots.AxesSubplot at 0x7f5407cd1780>"
      ]
     },
     "execution_count": 111,
     "metadata": {},
     "output_type": "execute_result"
    },
    {
     "data": {
      "image/png": "[encoded data removed]",
      "text/plain": [
       "<matplotlib.figure.Figure at 0x7f5407bac940>"
      ]
     },
     "metadata": {},
     "output_type": "display_data"
    }
   ],
   "source": [
    "train.groupby('Target')['Wild_Type'].value_counts().unstack().plot.bar(stacked=True)"
   ]
  },
  {
   "cell_type": "code",
   "execution_count": 114,
   "metadata": {},
   "outputs": [
    {
     "data": {
      "text/html": [
       "<div>\n",
       "<table border=\"1\" class=\"dataframe\">\n",
       "  <thead>\n",
       "    <tr style=\"text-align: right;\">\n",
       "      <th>Target</th>\n",
       "      <th>1</th>\n",
       "      <th>2</th>\n",
       "      <th>3</th>\n",
       "      <th>4</th>\n",
       "      <th>5</th>\n",
       "      <th>6</th>\n",
       "      <th>7</th>\n",
       "    </tr>\n",
       "    <tr>\n",
       "      <th>Soil_Type</th>\n",
       "      <th></th>\n",
       "      <th></th>\n",
       "      <th></th>\n",
       "      <th></th>\n",
       "      <th></th>\n",
       "      <th></th>\n",
       "      <th></th>\n",
       "    </tr>\n",
       "  </thead>\n",
       "  <tbody>\n",
       "    <tr>\n",
       "      <th>Bross family - Rock land - Cryumbrepts complex, extremely stony.</th>\n",
       "      <td>8.0</td>\n",
       "      <td>35.0</td>\n",
       "      <td>NaN</td>\n",
       "      <td>NaN</td>\n",
       "      <td>NaN</td>\n",
       "      <td>NaN</td>\n",
       "      <td>50.0</td>\n",
       "    </tr>\n",
       "    <tr>\n",
       "      <th>Bullwark - Catamount families - Rock land complex, rubbly.</th>\n",
       "      <td>602.0</td>\n",
       "      <td>7275.0</td>\n",
       "      <td>1087.0</td>\n",
       "      <td>30.0</td>\n",
       "      <td>541.0</td>\n",
       "      <td>425.0</td>\n",
       "      <td>NaN</td>\n",
       "    </tr>\n",
       "    <tr>\n",
       "      <th>Bullwark - Catamount families - Rock outcrop complex, rubbly.</th>\n",
       "      <td>773.0</td>\n",
       "      <td>8673.0</td>\n",
       "      <td>9172.0</td>\n",
       "      <td>179.0</td>\n",
       "      <td>201.0</td>\n",
       "      <td>7071.0</td>\n",
       "      <td>NaN</td>\n",
       "    </tr>\n",
       "    <tr>\n",
       "      <th>Catamount family - Rock land - Bullwark family complex, rubbly.</th>\n",
       "      <td>1799.0</td>\n",
       "      <td>10626.0</td>\n",
       "      <td>34.0</td>\n",
       "      <td>NaN</td>\n",
       "      <td>1056.0</td>\n",
       "      <td>493.0</td>\n",
       "      <td>3.0</td>\n",
       "    </tr>\n",
       "    <tr>\n",
       "      <th>Catamount family - Rock outcrop - Leighcan family complex, extremely stony.</th>\n",
       "      <td>17002.0</td>\n",
       "      <td>23630.0</td>\n",
       "      <td>81.0</td>\n",
       "      <td>NaN</td>\n",
       "      <td>355.0</td>\n",
       "      <td>157.0</td>\n",
       "      <td>687.0</td>\n",
       "    </tr>\n",
       "    <tr>\n",
       "      <th>Cathedral family - Rock outcrop complex, extremely stony.</th>\n",
       "      <td>NaN</td>\n",
       "      <td>NaN</td>\n",
       "      <td>1668.0</td>\n",
       "      <td>148.0</td>\n",
       "      <td>NaN</td>\n",
       "      <td>599.0</td>\n",
       "      <td>NaN</td>\n",
       "    </tr>\n",
       "    <tr>\n",
       "      <th>Como - Legault families complex, extremely stony.</th>\n",
       "      <td>33511.0</td>\n",
       "      <td>56990.0</td>\n",
       "      <td>NaN</td>\n",
       "      <td>NaN</td>\n",
       "      <td>898.0</td>\n",
       "      <td>NaN</td>\n",
       "      <td>662.0</td>\n",
       "    </tr>\n",
       "    <tr>\n",
       "      <th>Como family - Rock land - Legault family complex, extremely stony.</th>\n",
       "      <td>6133.0</td>\n",
       "      <td>16165.0</td>\n",
       "      <td>NaN</td>\n",
       "      <td>NaN</td>\n",
       "      <td>1693.0</td>\n",
       "      <td>NaN</td>\n",
       "      <td>158.0</td>\n",
       "    </tr>\n",
       "    <tr>\n",
       "      <th>Cryaquolis - Cryoborolis complex.</th>\n",
       "      <td>488.0</td>\n",
       "      <td>1369.0</td>\n",
       "      <td>110.0</td>\n",
       "      <td>43.0</td>\n",
       "      <td>32.0</td>\n",
       "      <td>189.0</td>\n",
       "      <td>NaN</td>\n",
       "    </tr>\n",
       "    <tr>\n",
       "      <th>Cryorthents - Rock land complex, extremely stony.</th>\n",
       "      <td>73.0</td>\n",
       "      <td>1151.0</td>\n",
       "      <td>NaN</td>\n",
       "      <td>NaN</td>\n",
       "      <td>17.0</td>\n",
       "      <td>11.0</td>\n",
       "      <td>40.0</td>\n",
       "    </tr>\n",
       "    <tr>\n",
       "      <th>Cryumbrepts - Rock outcrop - Cryaquepts complex.</th>\n",
       "      <td>732.0</td>\n",
       "      <td>8.0</td>\n",
       "      <td>NaN</td>\n",
       "      <td>NaN</td>\n",
       "      <td>NaN</td>\n",
       "      <td>NaN</td>\n",
       "      <td>764.0</td>\n",
       "    </tr>\n",
       "    <tr>\n",
       "      <th>Gateview family - Cryaquolis complex.</th>\n",
       "      <td>175.0</td>\n",
       "      <td>783.0</td>\n",
       "      <td>400.0</td>\n",
       "      <td>358.0</td>\n",
       "      <td>491.0</td>\n",
       "      <td>565.0</td>\n",
       "      <td>NaN</td>\n",
       "    </tr>\n",
       "    <tr>\n",
       "      <th>Gothic family.</th>\n",
       "      <td>NaN</td>\n",
       "      <td>81.0</td>\n",
       "      <td>NaN</td>\n",
       "      <td>NaN</td>\n",
       "      <td>NaN</td>\n",
       "      <td>NaN</td>\n",
       "      <td>NaN</td>\n",
       "    </tr>\n",
       "    <tr>\n",
       "      <th>Granile - Catamount families complex, very stony.</th>\n",
       "      <td>215.0</td>\n",
       "      <td>1754.0</td>\n",
       "      <td>NaN</td>\n",
       "      <td>NaN</td>\n",
       "      <td>110.0</td>\n",
       "      <td>NaN</td>\n",
       "      <td>NaN</td>\n",
       "    </tr>\n",
       "    <tr>\n",
       "      <th>Haploborolis - Rock outcrop complex, rubbly.</th>\n",
       "      <td>NaN</td>\n",
       "      <td>966.0</td>\n",
       "      <td>1939.0</td>\n",
       "      <td>830.0</td>\n",
       "      <td>NaN</td>\n",
       "      <td>164.0</td>\n",
       "      <td>NaN</td>\n",
       "    </tr>\n",
       "    <tr>\n",
       "      <th>Legault family - Rock land complex, stony.</th>\n",
       "      <td>2119.0</td>\n",
       "      <td>21835.0</td>\n",
       "      <td>NaN</td>\n",
       "      <td>NaN</td>\n",
       "      <td>NaN</td>\n",
       "      <td>NaN</td>\n",
       "      <td>NaN</td>\n",
       "    </tr>\n",
       "    <tr>\n",
       "      <th>Leighcan - Catamount families - Rock outcrop complex, extremely stony.</th>\n",
       "      <td>14526.0</td>\n",
       "      <td>19992.0</td>\n",
       "      <td>5.0</td>\n",
       "      <td>NaN</td>\n",
       "      <td>405.0</td>\n",
       "      <td>415.0</td>\n",
       "      <td>500.0</td>\n",
       "    </tr>\n",
       "    <tr>\n",
       "      <th>Leighcan - Catamount families complex, extremely stony.</th>\n",
       "      <td>9480.0</td>\n",
       "      <td>10555.0</td>\n",
       "      <td>NaN</td>\n",
       "      <td>NaN</td>\n",
       "      <td>249.0</td>\n",
       "      <td>46.0</td>\n",
       "      <td>178.0</td>\n",
       "    </tr>\n",
       "    <tr>\n",
       "      <th>Leighcan - Moran families - Cryaquolls complex, extremely stony.</th>\n",
       "      <td>6945.0</td>\n",
       "      <td>589.0</td>\n",
       "      <td>NaN</td>\n",
       "      <td>NaN</td>\n",
       "      <td>NaN</td>\n",
       "      <td>NaN</td>\n",
       "      <td>4874.0</td>\n",
       "    </tr>\n",
       "    <tr>\n",
       "      <th>Leighcan family - Rock outcrop complex, extremely stony.</th>\n",
       "      <td>35.0</td>\n",
       "      <td>741.0</td>\n",
       "      <td>NaN</td>\n",
       "      <td>NaN</td>\n",
       "      <td>11.0</td>\n",
       "      <td>NaN</td>\n",
       "      <td>NaN</td>\n",
       "    </tr>\n",
       "    <tr>\n",
       "      <th>Leighcan family, extremely stony.</th>\n",
       "      <td>9032.0</td>\n",
       "      <td>7787.0</td>\n",
       "      <td>NaN</td>\n",
       "      <td>NaN</td>\n",
       "      <td>54.0</td>\n",
       "      <td>118.0</td>\n",
       "      <td>165.0</td>\n",
       "    </tr>\n",
       "    <tr>\n",
       "      <th>Leighcan family, till substratum - Typic Cryaquolls complex.</th>\n",
       "      <td>28419.0</td>\n",
       "      <td>16600.0</td>\n",
       "      <td>NaN</td>\n",
       "      <td>NaN</td>\n",
       "      <td>558.0</td>\n",
       "      <td>24.0</td>\n",
       "      <td>575.0</td>\n",
       "    </tr>\n",
       "    <tr>\n",
       "      <th>Leighcan family, till substratum, extremely bouldery.</th>\n",
       "      <td>20614.0</td>\n",
       "      <td>5908.0</td>\n",
       "      <td>NaN</td>\n",
       "      <td>NaN</td>\n",
       "      <td>NaN</td>\n",
       "      <td>NaN</td>\n",
       "      <td>119.0</td>\n",
       "    </tr>\n",
       "    <tr>\n",
       "      <th>Leighcan family, warm - Rock outcrop complex, extremely stony.</th>\n",
       "      <td>473.0</td>\n",
       "      <td>365.0</td>\n",
       "      <td>NaN</td>\n",
       "      <td>NaN</td>\n",
       "      <td>NaN</td>\n",
       "      <td>NaN</td>\n",
       "      <td>24.0</td>\n",
       "    </tr>\n",
       "    <tr>\n",
       "      <th>Leighcan family, warm, extremely stony.</th>\n",
       "      <td>101.0</td>\n",
       "      <td>295.0</td>\n",
       "      <td>NaN</td>\n",
       "      <td>NaN</td>\n",
       "      <td>NaN</td>\n",
       "      <td>NaN</td>\n",
       "      <td>NaN</td>\n",
       "    </tr>\n",
       "    <tr>\n",
       "      <th>Moran family - Cryorthents - Leighcan family complex, extremely stony.</th>\n",
       "      <td>6202.0</td>\n",
       "      <td>292.0</td>\n",
       "      <td>NaN</td>\n",
       "      <td>NaN</td>\n",
       "      <td>NaN</td>\n",
       "      <td>NaN</td>\n",
       "      <td>4426.0</td>\n",
       "    </tr>\n",
       "    <tr>\n",
       "      <th>Moran family - Cryorthents - Rock land complex, extremely stony.</th>\n",
       "      <td>3831.0</td>\n",
       "      <td>270.0</td>\n",
       "      <td>NaN</td>\n",
       "      <td>NaN</td>\n",
       "      <td>NaN</td>\n",
       "      <td>NaN</td>\n",
       "      <td>2854.0</td>\n",
       "    </tr>\n",
       "    <tr>\n",
       "      <th>Pachic Argiborolis - Aquolis complex.</th>\n",
       "      <td>NaN</td>\n",
       "      <td>NaN</td>\n",
       "      <td>98.0</td>\n",
       "      <td>135.0</td>\n",
       "      <td>NaN</td>\n",
       "      <td>264.0</td>\n",
       "      <td>NaN</td>\n",
       "    </tr>\n",
       "    <tr>\n",
       "      <th>Ratake family - Rock outcrop complex, rubbly.</th>\n",
       "      <td>144.0</td>\n",
       "      <td>2600.0</td>\n",
       "      <td>5971.0</td>\n",
       "      <td>139.0</td>\n",
       "      <td>475.0</td>\n",
       "      <td>503.0</td>\n",
       "      <td>64.0</td>\n",
       "    </tr>\n",
       "    <tr>\n",
       "      <th>Rock outcrop - Cryumbrepts - Cryorthents complex, extremely stony.</th>\n",
       "      <td>NaN</td>\n",
       "      <td>NaN</td>\n",
       "      <td>NaN</td>\n",
       "      <td>NaN</td>\n",
       "      <td>NaN</td>\n",
       "      <td>NaN</td>\n",
       "      <td>242.0</td>\n",
       "    </tr>\n",
       "    <tr>\n",
       "      <th>Rogert family, very stony.</th>\n",
       "      <td>53.0</td>\n",
       "      <td>1337.0</td>\n",
       "      <td>NaN</td>\n",
       "      <td>NaN</td>\n",
       "      <td>133.0</td>\n",
       "      <td>NaN</td>\n",
       "      <td>NaN</td>\n",
       "    </tr>\n",
       "    <tr>\n",
       "      <th>Supervisor - Limber families complex.</th>\n",
       "      <td>38.0</td>\n",
       "      <td>110.0</td>\n",
       "      <td>NaN</td>\n",
       "      <td>NaN</td>\n",
       "      <td>NaN</td>\n",
       "      <td>NaN</td>\n",
       "      <td>NaN</td>\n",
       "    </tr>\n",
       "    <tr>\n",
       "      <th>Troutville family, very stony.</th>\n",
       "      <td>124.0</td>\n",
       "      <td>780.0</td>\n",
       "      <td>NaN</td>\n",
       "      <td>NaN</td>\n",
       "      <td>NaN</td>\n",
       "      <td>NaN</td>\n",
       "      <td>NaN</td>\n",
       "    </tr>\n",
       "    <tr>\n",
       "      <th>Typic Cryaquepts - Typic Cryaquolls complex.</th>\n",
       "      <td>3013.0</td>\n",
       "      <td>4183.0</td>\n",
       "      <td>1.0</td>\n",
       "      <td>NaN</td>\n",
       "      <td>42.0</td>\n",
       "      <td>223.0</td>\n",
       "      <td>NaN</td>\n",
       "    </tr>\n",
       "    <tr>\n",
       "      <th>Typic Cryaquolis - Borohemists complex.</th>\n",
       "      <td>1939.0</td>\n",
       "      <td>1171.0</td>\n",
       "      <td>NaN</td>\n",
       "      <td>NaN</td>\n",
       "      <td>60.0</td>\n",
       "      <td>NaN</td>\n",
       "      <td>3.0</td>\n",
       "    </tr>\n",
       "    <tr>\n",
       "      <th>Typic Cryaquolls - Leighcan family, till substratum complex.</th>\n",
       "      <td>669.0</td>\n",
       "      <td>18.0</td>\n",
       "      <td>NaN</td>\n",
       "      <td>NaN</td>\n",
       "      <td>NaN</td>\n",
       "      <td>NaN</td>\n",
       "      <td>10.0</td>\n",
       "    </tr>\n",
       "    <tr>\n",
       "      <th>Vanet - Ratake families complex, very stony.</th>\n",
       "      <td>NaN</td>\n",
       "      <td>684.0</td>\n",
       "      <td>3980.0</td>\n",
       "      <td>82.0</td>\n",
       "      <td>212.0</td>\n",
       "      <td>1058.0</td>\n",
       "      <td>NaN</td>\n",
       "    </tr>\n",
       "    <tr>\n",
       "      <th>Vanet - Wetmore families - Rock outcrop complex, stony.</th>\n",
       "      <td>NaN</td>\n",
       "      <td>717.0</td>\n",
       "      <td>3196.0</td>\n",
       "      <td>248.0</td>\n",
       "      <td>NaN</td>\n",
       "      <td>1075.0</td>\n",
       "      <td>NaN</td>\n",
       "    </tr>\n",
       "    <tr>\n",
       "      <th>Vanet family - Rock outcrop complex complex, rubbly.</th>\n",
       "      <td>NaN</td>\n",
       "      <td>NaN</td>\n",
       "      <td>767.0</td>\n",
       "      <td>39.0</td>\n",
       "      <td>NaN</td>\n",
       "      <td>463.0</td>\n",
       "      <td>NaN</td>\n",
       "    </tr>\n",
       "    <tr>\n",
       "      <th>unspecified in the USFS Soil and ELU Survey.</th>\n",
       "      <td>NaN</td>\n",
       "      <td>NaN</td>\n",
       "      <td>NaN</td>\n",
       "      <td>NaN</td>\n",
       "      <td>NaN</td>\n",
       "      <td>3.0</td>\n",
       "      <td>NaN</td>\n",
       "    </tr>\n",
       "  </tbody>\n",
       "</table>\n",
       "</div>"
      ],
      "text/plain": [
       "Target                                                    1        2       3  \\\n",
       "Soil_Type                                                                      \n",
       "Bross family - Rock land - Cryumbrepts complex,...      8.0     35.0     NaN   \n",
       "Bullwark - Catamount families - Rock land compl...    602.0   7275.0  1087.0   \n",
       "Bullwark - Catamount families - Rock outcrop co...    773.0   8673.0  9172.0   \n",
       "Catamount family - Rock land - Bullwark family ...   1799.0  10626.0    34.0   \n",
       "Catamount family - Rock outcrop - Leighcan fami...  17002.0  23630.0    81.0   \n",
       "Cathedral family - Rock outcrop complex, extrem...      NaN      NaN  1668.0   \n",
       "Como - Legault families complex, extremely stony.   33511.0  56990.0     NaN   \n",
       "Como family - Rock land - Legault family comple...   6133.0  16165.0     NaN   \n",
       "Cryaquolis - Cryoborolis complex.                     488.0   1369.0   110.0   \n",
       "Cryorthents - Rock land complex, extremely stony.      73.0   1151.0     NaN   \n",
       "Cryumbrepts - Rock outcrop - Cryaquepts complex.      732.0      8.0     NaN   \n",
       "Gateview family - Cryaquolis complex.                 175.0    783.0   400.0   \n",
       "Gothic family.                                          NaN     81.0     NaN   \n",
       "Granile - Catamount families complex, very stony.     215.0   1754.0     NaN   \n",
       "Haploborolis - Rock outcrop complex, rubbly.            NaN    966.0  1939.0   \n",
       "Legault family - Rock land complex, stony.           2119.0  21835.0     NaN   \n",
       "Leighcan - Catamount families - Rock outcrop co...  14526.0  19992.0     5.0   \n",
       "Leighcan - Catamount families complex, extremel...   9480.0  10555.0     NaN   \n",
       "Leighcan - Moran families - Cryaquolls complex,...   6945.0    589.0     NaN   \n",
       "Leighcan family - Rock outcrop complex, extreme...     35.0    741.0     NaN   \n",
       "Leighcan family, extremely stony.                    9032.0   7787.0     NaN   \n",
       "Leighcan family, till substratum - Typic Cryaqu...  28419.0  16600.0     NaN   \n",
       "Leighcan family, till substratum, extremely bou...  20614.0   5908.0     NaN   \n",
       "Leighcan family, warm - Rock outcrop complex, e...    473.0    365.0     NaN   \n",
       "Leighcan family, warm, extremely stony.               101.0    295.0     NaN   \n",
       "Moran family - Cryorthents - Leighcan family co...   6202.0    292.0     NaN   \n",
       "Moran family - Cryorthents - Rock land complex,...   3831.0    270.0     NaN   \n",
       "Pachic Argiborolis - Aquolis complex.                   NaN      NaN    98.0   \n",
       "Ratake family - Rock outcrop complex, rubbly.         144.0   2600.0  5971.0   \n",
       "Rock outcrop - Cryumbrepts - Cryorthents comple...      NaN      NaN     NaN   \n",
       "Rogert family, very stony.                             53.0   1337.0     NaN   \n",
       "Supervisor - Limber families complex.                  38.0    110.0     NaN   \n",
       "Troutville family, very stony.                        124.0    780.0     NaN   \n",
       "Typic Cryaquepts - Typic Cryaquolls complex.         3013.0   4183.0     1.0   \n",
       "Typic Cryaquolis - Borohemists complex.              1939.0   1171.0     NaN   \n",
       "Typic Cryaquolls - Leighcan family, till substr...    669.0     18.0     NaN   \n",
       "Vanet - Ratake families complex, very stony.            NaN    684.0  3980.0   \n",
       "Vanet - Wetmore families - Rock outcrop complex...      NaN    717.0  3196.0   \n",
       "Vanet family - Rock outcrop complex complex, ru...      NaN      NaN   767.0   \n",
       "unspecified in the USFS Soil and ELU Survey.            NaN      NaN     NaN   \n",
       "\n",
       "Target                                                  4       5       6  \\\n",
       "Soil_Type                                                                   \n",
       "Bross family - Rock land - Cryumbrepts complex,...    NaN     NaN     NaN   \n",
       "Bullwark - Catamount families - Rock land compl...   30.0   541.0   425.0   \n",
       "Bullwark - Catamount families - Rock outcrop co...  179.0   201.0  7071.0   \n",
       "Catamount family - Rock land - Bullwark family ...    NaN  1056.0   493.0   \n",
       "Catamount family - Rock outcrop - Leighcan fami...    NaN   355.0   157.0   \n",
       "Cathedral family - Rock outcrop complex, extrem...  148.0     NaN   599.0   \n",
       "Como - Legault families complex, extremely stony.     NaN   898.0     NaN   \n",
       "Como family - Rock land - Legault family comple...    NaN  1693.0     NaN   \n",
       "Cryaquolis - Cryoborolis complex.                    43.0    32.0   189.0   \n",
       "Cryorthents - Rock land complex, extremely stony.     NaN    17.0    11.0   \n",
       "Cryumbrepts - Rock outcrop - Cryaquepts complex.      NaN     NaN     NaN   \n",
       "Gateview family - Cryaquolis complex.               358.0   491.0   565.0   \n",
       "Gothic family.                                        NaN     NaN     NaN   \n",
       "Granile - Catamount families complex, very stony.     NaN   110.0     NaN   \n",
       "Haploborolis - Rock outcrop complex, rubbly.        830.0     NaN   164.0   \n",
       "Legault family - Rock land complex, stony.            NaN     NaN     NaN   \n",
       "Leighcan - Catamount families - Rock outcrop co...    NaN   405.0   415.0   \n",
       "Leighcan - Catamount families complex, extremel...    NaN   249.0    46.0   \n",
       "Leighcan - Moran families - Cryaquolls complex,...    NaN     NaN     NaN   \n",
       "Leighcan family - Rock outcrop complex, extreme...    NaN    11.0     NaN   \n",
       "Leighcan family, extremely stony.                     NaN    54.0   118.0   \n",
       "Leighcan family, till substratum - Typic Cryaqu...    NaN   558.0    24.0   \n",
       "Leighcan family, till substratum, extremely bou...    NaN     NaN     NaN   \n",
       "Leighcan family, warm - Rock outcrop complex, e...    NaN     NaN     NaN   \n",
       "Leighcan family, warm, extremely stony.               NaN     NaN     NaN   \n",
       "Moran family - Cryorthents - Leighcan family co...    NaN     NaN     NaN   \n",
       "Moran family - Cryorthents - Rock land complex,...    NaN     NaN     NaN   \n",
       "Pachic Argiborolis - Aquolis complex.               135.0     NaN   264.0   \n",
       "Ratake family - Rock outcrop complex, rubbly.       139.0   475.0   503.0   \n",
       "Rock outcrop - Cryumbrepts - Cryorthents comple...    NaN     NaN     NaN   \n",
       "Rogert family, very stony.                            NaN   133.0     NaN   \n",
       "Supervisor - Limber families complex.                 NaN     NaN     NaN   \n",
       "Troutville family, very stony.                        NaN     NaN     NaN   \n",
       "Typic Cryaquepts - Typic Cryaquolls complex.          NaN    42.0   223.0   \n",
       "Typic Cryaquolis - Borohemists complex.               NaN    60.0     NaN   \n",
       "Typic Cryaquolls - Leighcan family, till substr...    NaN     NaN     NaN   \n",
       "Vanet - Ratake families complex, very stony.         82.0   212.0  1058.0   \n",
       "Vanet - Wetmore families - Rock outcrop complex...  248.0     NaN  1075.0   \n",
       "Vanet family - Rock outcrop complex complex, ru...   39.0     NaN   463.0   \n",
       "unspecified in the USFS Soil and ELU Survey.          NaN     NaN     3.0   \n",
       "\n",
       "Target                                                   7  \n",
       "Soil_Type                                                   \n",
       "Bross family - Rock land - Cryumbrepts complex,...    50.0  \n",
       "Bullwark - Catamount families - Rock land compl...     NaN  \n",
       "Bullwark - Catamount families - Rock outcrop co...     NaN  \n",
       "Catamount family - Rock land - Bullwark family ...     3.0  \n",
       "Catamount family - Rock outcrop - Leighcan fami...   687.0  \n",
       "Cathedral family - Rock outcrop complex, extrem...     NaN  \n",
       "Como - Legault families complex, extremely stony.    662.0  \n",
       "Como family - Rock land - Legault family comple...   158.0  \n",
       "Cryaquolis - Cryoborolis complex.                      NaN  \n",
       "Cryorthents - Rock land complex, extremely stony.     40.0  \n",
       "Cryumbrepts - Rock outcrop - Cryaquepts complex.     764.0  \n",
       "Gateview family - Cryaquolis complex.                  NaN  \n",
       "Gothic family.                                         NaN  \n",
       "Granile - Catamount families complex, very stony.      NaN  \n",
       "Haploborolis - Rock outcrop complex, rubbly.           NaN  \n",
       "Legault family - Rock land complex, stony.             NaN  \n",
       "Leighcan - Catamount families - Rock outcrop co...   500.0  \n",
       "Leighcan - Catamount families complex, extremel...   178.0  \n",
       "Leighcan - Moran families - Cryaquolls complex,...  4874.0  \n",
       "Leighcan family - Rock outcrop complex, extreme...     NaN  \n",
       "Leighcan family, extremely stony.                    165.0  \n",
       "Leighcan family, till substratum - Typic Cryaqu...   575.0  \n",
       "Leighcan family, till substratum, extremely bou...   119.0  \n",
       "Leighcan family, warm - Rock outcrop complex, e...    24.0  \n",
       "Leighcan family, warm, extremely stony.                NaN  \n",
       "Moran family - Cryorthents - Leighcan family co...  4426.0  \n",
       "Moran family - Cryorthents - Rock land complex,...  2854.0  \n",
       "Pachic Argiborolis - Aquolis complex.                  NaN  \n",
       "Ratake family - Rock outcrop complex, rubbly.         64.0  \n",
       "Rock outcrop - Cryumbrepts - Cryorthents comple...   242.0  \n",
       "Rogert family, very stony.                             NaN  \n",
       "Supervisor - Limber families complex.                  NaN  \n",
       "Troutville family, very stony.                         NaN  \n",
       "Typic Cryaquepts - Typic Cryaquolls complex.           NaN  \n",
       "Typic Cryaquolis - Borohemists complex.                3.0  \n",
       "Typic Cryaquolls - Leighcan family, till substr...    10.0  \n",
       "Vanet - Ratake families complex, very stony.           NaN  \n",
       "Vanet - Wetmore families - Rock outcrop complex...     NaN  \n",
       "Vanet family - Rock outcrop complex complex, ru...     NaN  \n",
       "unspecified in the USFS Soil and ELU Survey.           NaN  "
      ]
     },
     "execution_count": 114,
     "metadata": {},
     "output_type": "execute_result"
    }
   ],
   "source": [
    "train.groupby('Soil_Type')['Target'].value_counts().unstack()"
   ]
  },
  {
   "cell_type": "code",
   "execution_count": null,
   "metadata": {},
   "outputs": [],
   "source": []
  }
 ],
 "metadata": {
  "kernelspec": {
   "display_name": "Python 3",
   "language": "python",
   "name": "python3"
  },
  "language_info": {
   "codemirror_mode": {
    "name": "ipython",
    "version": 3
   },
   "file_extension": ".py",
   "mimetype": "text/x-python",
   "name": "python",
   "nbconvert_exporter": "python",
   "pygments_lexer": "ipython3",
   "version": "3.6.2"
  }
 },
 "nbformat": 4,
 "nbformat_minor": 2
}
