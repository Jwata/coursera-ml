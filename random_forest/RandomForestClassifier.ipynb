{
 "cells": [
  {
   "cell_type": "markdown",
   "metadata": {},
   "source": [
    "## Preprocess"
   ]
  },
  {
   "cell_type": "code",
   "execution_count": 1,
   "metadata": {},
   "outputs": [],
   "source": [
    "import pandas as pd\n",
    "train = pd.read_csv('/data/covertype2/train.csv')"
   ]
  },
  {
   "cell_type": "code",
   "execution_count": 2,
   "metadata": {},
   "outputs": [],
   "source": [
    "from sklearn.preprocessing import LabelEncoder, OneHotEncoder\n",
    "\n",
    "def convert_categorical_features(raw_data):\n",
    "    categorical_features = ['Wild_Type', 'Soil_Type']\n",
    "    encoders = {}\n",
    "    processed = raw_data.copy()\n",
    "\n",
    "    for feature in categorical_features:\n",
    "        enc_label = LabelEncoder()\n",
    "        enc_label.fit(raw_data[feature])\n",
    "        processed[feature] = enc_label.transform(raw_data[feature])\n",
    "        \n",
    "        enc_onehot = OneHotEncoder()\n",
    "        enc_onehot.fit(processed[feature].reshape((-1, 1)))\n",
    "        onehot_vectors = enc_onehot.transform(processed[feature].reshape((-1, 1))).tocsc()\n",
    "        for col in enc_onehot.active_features_:\n",
    "            label = enc_label.classes_[col]\n",
    "            new_label = '{}_{}'.format(feature, label)\n",
    "            vec = onehot_vectors.getcol(col).toarray().flatten()\n",
    "            processed[new_label] = vec\n",
    "\n",
    "        encoders[feature] = (enc_label, enc_onehot)\n",
    "\n",
    "    return processed.drop(categorical_features, axis=1), encoders"
   ]
  },
  {
   "cell_type": "code",
   "execution_count": 3,
   "metadata": {},
   "outputs": [
    {
     "name": "stderr",
     "output_type": "stream",
     "text": [
      "/opt/conda/lib/python3.6/site-packages/ipykernel_launcher.py:14: FutureWarning: reshape is deprecated and will raise in a subsequent release. Please use .values.reshape(...) instead\n",
      "  \n",
      "/opt/conda/lib/python3.6/site-packages/ipykernel_launcher.py:15: FutureWarning: reshape is deprecated and will raise in a subsequent release. Please use .values.reshape(...) instead\n",
      "  from ipykernel import kernelapp as app\n"
     ]
    },
    {
     "data": {
      "text/html": [
       "<div>\n",
       "<table border=\"1\" class=\"dataframe\">\n",
       "  <thead>\n",
       "    <tr style=\"text-align: right;\">\n",
       "      <th></th>\n",
       "      <th>Elevation</th>\n",
       "      <th>Aspect</th>\n",
       "      <th>Slope</th>\n",
       "      <th>Horizontal_Distance_To_Hydrology</th>\n",
       "      <th>Vertical_Distance_To_Hydrology</th>\n",
       "      <th>Horizontal_Distance_To_Roadways</th>\n",
       "      <th>Hillshade_9am</th>\n",
       "      <th>Hillshade_Noon</th>\n",
       "      <th>Hillshade_3pm</th>\n",
       "      <th>Horizontal_Distance_To_Fire_Points</th>\n",
       "      <th>...</th>\n",
       "      <th>Soil_Type_Rogert family, very stony.</th>\n",
       "      <th>Soil_Type_Supervisor - Limber families complex.</th>\n",
       "      <th>Soil_Type_Troutville family, very stony.</th>\n",
       "      <th>Soil_Type_Typic Cryaquepts - Typic Cryaquolls complex.</th>\n",
       "      <th>Soil_Type_Typic Cryaquolis - Borohemists complex.</th>\n",
       "      <th>Soil_Type_Typic Cryaquolls - Leighcan family, till substratum complex.</th>\n",
       "      <th>Soil_Type_Vanet - Ratake families complex, very stony.</th>\n",
       "      <th>Soil_Type_Vanet - Wetmore families - Rock outcrop complex, stony.</th>\n",
       "      <th>Soil_Type_Vanet family - Rock outcrop complex complex, rubbly.</th>\n",
       "      <th>Soil_Type_unspecified in the USFS Soil and ELU Survey.</th>\n",
       "    </tr>\n",
       "  </thead>\n",
       "  <tbody>\n",
       "    <tr>\n",
       "      <th>0</th>\n",
       "      <td>3122</td>\n",
       "      <td>266</td>\n",
       "      <td>10</td>\n",
       "      <td>433</td>\n",
       "      <td>75</td>\n",
       "      <td>3069</td>\n",
       "      <td>195</td>\n",
       "      <td>245</td>\n",
       "      <td>188</td>\n",
       "      <td>451</td>\n",
       "      <td>...</td>\n",
       "      <td>0.0</td>\n",
       "      <td>0.0</td>\n",
       "      <td>0.0</td>\n",
       "      <td>0.0</td>\n",
       "      <td>0.0</td>\n",
       "      <td>0.0</td>\n",
       "      <td>0.0</td>\n",
       "      <td>0.0</td>\n",
       "      <td>0.0</td>\n",
       "      <td>0.0</td>\n",
       "    </tr>\n",
       "    <tr>\n",
       "      <th>1</th>\n",
       "      <td>3018</td>\n",
       "      <td>308</td>\n",
       "      <td>15</td>\n",
       "      <td>60</td>\n",
       "      <td>14</td>\n",
       "      <td>5359</td>\n",
       "      <td>177</td>\n",
       "      <td>229</td>\n",
       "      <td>192</td>\n",
       "      <td>4546</td>\n",
       "      <td>...</td>\n",
       "      <td>0.0</td>\n",
       "      <td>0.0</td>\n",
       "      <td>0.0</td>\n",
       "      <td>0.0</td>\n",
       "      <td>0.0</td>\n",
       "      <td>0.0</td>\n",
       "      <td>0.0</td>\n",
       "      <td>0.0</td>\n",
       "      <td>0.0</td>\n",
       "      <td>0.0</td>\n",
       "    </tr>\n",
       "    <tr>\n",
       "      <th>2</th>\n",
       "      <td>3146</td>\n",
       "      <td>151</td>\n",
       "      <td>12</td>\n",
       "      <td>541</td>\n",
       "      <td>-2</td>\n",
       "      <td>5887</td>\n",
       "      <td>236</td>\n",
       "      <td>240</td>\n",
       "      <td>132</td>\n",
       "      <td>1371</td>\n",
       "      <td>...</td>\n",
       "      <td>0.0</td>\n",
       "      <td>0.0</td>\n",
       "      <td>0.0</td>\n",
       "      <td>0.0</td>\n",
       "      <td>0.0</td>\n",
       "      <td>0.0</td>\n",
       "      <td>0.0</td>\n",
       "      <td>0.0</td>\n",
       "      <td>0.0</td>\n",
       "      <td>0.0</td>\n",
       "    </tr>\n",
       "    <tr>\n",
       "      <th>3</th>\n",
       "      <td>2980</td>\n",
       "      <td>163</td>\n",
       "      <td>6</td>\n",
       "      <td>553</td>\n",
       "      <td>21</td>\n",
       "      <td>3538</td>\n",
       "      <td>226</td>\n",
       "      <td>242</td>\n",
       "      <td>149</td>\n",
       "      <td>1087</td>\n",
       "      <td>...</td>\n",
       "      <td>0.0</td>\n",
       "      <td>0.0</td>\n",
       "      <td>0.0</td>\n",
       "      <td>0.0</td>\n",
       "      <td>0.0</td>\n",
       "      <td>0.0</td>\n",
       "      <td>0.0</td>\n",
       "      <td>0.0</td>\n",
       "      <td>0.0</td>\n",
       "      <td>0.0</td>\n",
       "    </tr>\n",
       "    <tr>\n",
       "      <th>4</th>\n",
       "      <td>2972</td>\n",
       "      <td>187</td>\n",
       "      <td>16</td>\n",
       "      <td>255</td>\n",
       "      <td>109</td>\n",
       "      <td>6390</td>\n",
       "      <td>220</td>\n",
       "      <td>250</td>\n",
       "      <td>158</td>\n",
       "      <td>4119</td>\n",
       "      <td>...</td>\n",
       "      <td>0.0</td>\n",
       "      <td>0.0</td>\n",
       "      <td>0.0</td>\n",
       "      <td>0.0</td>\n",
       "      <td>0.0</td>\n",
       "      <td>0.0</td>\n",
       "      <td>0.0</td>\n",
       "      <td>0.0</td>\n",
       "      <td>0.0</td>\n",
       "      <td>0.0</td>\n",
       "    </tr>\n",
       "  </tbody>\n",
       "</table>\n",
       "<p>5 rows × 55 columns</p>\n",
       "</div>"
      ],
      "text/plain": [
       "   Elevation  Aspect  Slope  Horizontal_Distance_To_Hydrology  \\\n",
       "0       3122     266     10                               433   \n",
       "1       3018     308     15                                60   \n",
       "2       3146     151     12                               541   \n",
       "3       2980     163      6                               553   \n",
       "4       2972     187     16                               255   \n",
       "\n",
       "   Vertical_Distance_To_Hydrology  Horizontal_Distance_To_Roadways  \\\n",
       "0                              75                             3069   \n",
       "1                              14                             5359   \n",
       "2                              -2                             5887   \n",
       "3                              21                             3538   \n",
       "4                             109                             6390   \n",
       "\n",
       "   Hillshade_9am  Hillshade_Noon  Hillshade_3pm  \\\n",
       "0            195             245            188   \n",
       "1            177             229            192   \n",
       "2            236             240            132   \n",
       "3            226             242            149   \n",
       "4            220             250            158   \n",
       "\n",
       "   Horizontal_Distance_To_Fire_Points  \\\n",
       "0                                 451   \n",
       "1                                4546   \n",
       "2                                1371   \n",
       "3                                1087   \n",
       "4                                4119   \n",
       "\n",
       "                            ...                            \\\n",
       "0                           ...                             \n",
       "1                           ...                             \n",
       "2                           ...                             \n",
       "3                           ...                             \n",
       "4                           ...                             \n",
       "\n",
       "   Soil_Type_Rogert family, very stony.  \\\n",
       "0                                   0.0   \n",
       "1                                   0.0   \n",
       "2                                   0.0   \n",
       "3                                   0.0   \n",
       "4                                   0.0   \n",
       "\n",
       "   Soil_Type_Supervisor - Limber families complex.  \\\n",
       "0                                              0.0   \n",
       "1                                              0.0   \n",
       "2                                              0.0   \n",
       "3                                              0.0   \n",
       "4                                              0.0   \n",
       "\n",
       "   Soil_Type_Troutville family, very stony.  \\\n",
       "0                                       0.0   \n",
       "1                                       0.0   \n",
       "2                                       0.0   \n",
       "3                                       0.0   \n",
       "4                                       0.0   \n",
       "\n",
       "   Soil_Type_Typic Cryaquepts - Typic Cryaquolls complex.  \\\n",
       "0                                                0.0        \n",
       "1                                                0.0        \n",
       "2                                                0.0        \n",
       "3                                                0.0        \n",
       "4                                                0.0        \n",
       "\n",
       "   Soil_Type_Typic Cryaquolis - Borohemists complex.  \\\n",
       "0                                                0.0   \n",
       "1                                                0.0   \n",
       "2                                                0.0   \n",
       "3                                                0.0   \n",
       "4                                                0.0   \n",
       "\n",
       "   Soil_Type_Typic Cryaquolls - Leighcan family, till substratum complex.  \\\n",
       "0                                                0.0                        \n",
       "1                                                0.0                        \n",
       "2                                                0.0                        \n",
       "3                                                0.0                        \n",
       "4                                                0.0                        \n",
       "\n",
       "   Soil_Type_Vanet - Ratake families complex, very stony.  \\\n",
       "0                                                0.0        \n",
       "1                                                0.0        \n",
       "2                                                0.0        \n",
       "3                                                0.0        \n",
       "4                                                0.0        \n",
       "\n",
       "   Soil_Type_Vanet - Wetmore families - Rock outcrop complex, stony.  \\\n",
       "0                                                0.0                   \n",
       "1                                                0.0                   \n",
       "2                                                0.0                   \n",
       "3                                                0.0                   \n",
       "4                                                0.0                   \n",
       "\n",
       "   Soil_Type_Vanet family - Rock outcrop complex complex, rubbly.  \\\n",
       "0                                                0.0                \n",
       "1                                                0.0                \n",
       "2                                                0.0                \n",
       "3                                                0.0                \n",
       "4                                                0.0                \n",
       "\n",
       "   Soil_Type_unspecified in the USFS Soil and ELU Survey.  \n",
       "0                                                0.0       \n",
       "1                                                0.0       \n",
       "2                                                0.0       \n",
       "3                                                0.0       \n",
       "4                                                0.0       \n",
       "\n",
       "[5 rows x 55 columns]"
      ]
     },
     "execution_count": 3,
     "metadata": {},
     "output_type": "execute_result"
    }
   ],
   "source": [
    "processed, encoders = convert_categorical_features(train)\n",
    "processed.head()"
   ]
  },
  {
   "cell_type": "code",
   "execution_count": 4,
   "metadata": {},
   "outputs": [],
   "source": [
    "y = processed['Target']\n",
    "X = processed.drop('Target', axis=1)"
   ]
  },
  {
   "cell_type": "code",
   "execution_count": 5,
   "metadata": {},
   "outputs": [
    {
     "data": {
      "text/plain": [
       "((464200,), (464200, 54))"
      ]
     },
     "execution_count": 5,
     "metadata": {},
     "output_type": "execute_result"
    }
   ],
   "source": [
    "y.shape, X.shape"
   ]
  },
  {
   "cell_type": "code",
   "execution_count": 6,
   "metadata": {},
   "outputs": [
    {
     "data": {
      "text/plain": [
       "2    226335\n",
       "1    169268\n",
       "3     28509\n",
       "7     16398\n",
       "6     13866\n",
       "5      7593\n",
       "4      2231\n",
       "Name: Target, dtype: int64"
      ]
     },
     "execution_count": 6,
     "metadata": {},
     "output_type": "execute_result"
    }
   ],
   "source": [
    "y.value_counts()"
   ]
  },
  {
   "cell_type": "markdown",
   "metadata": {},
   "source": [
    "## Training"
   ]
  },
  {
   "cell_type": "code",
   "execution_count": 7,
   "metadata": {},
   "outputs": [],
   "source": [
    "from sklearn.ensemble import RandomForestClassifier\n",
    "n_estimators = 3\n",
    "max_depth = None\n",
    "\n",
    "random_forest = RandomForestClassifier(n_estimators=n_estimators, criterion='gini', max_features='sqrt', max_depth=max_depth, n_jobs=-1, verbose=1)"
   ]
  },
  {
   "cell_type": "code",
   "execution_count": 8,
   "metadata": {},
   "outputs": [
    {
     "name": "stderr",
     "output_type": "stream",
     "text": [
      "[Parallel(n_jobs=-1)]: Done   3 out of   3 | elapsed:    3.3s finished\n"
     ]
    },
    {
     "data": {
      "text/plain": [
       "RandomForestClassifier(bootstrap=True, class_weight=None, criterion='gini',\n",
       "            max_depth=None, max_features='sqrt', max_leaf_nodes=None,\n",
       "            min_impurity_split=1e-07, min_samples_leaf=1,\n",
       "            min_samples_split=2, min_weight_fraction_leaf=0.0,\n",
       "            n_estimators=3, n_jobs=-1, oob_score=False, random_state=None,\n",
       "            verbose=1, warm_start=False)"
      ]
     },
     "execution_count": 8,
     "metadata": {},
     "output_type": "execute_result"
    }
   ],
   "source": [
    "random_forest.fit(X, y)"
   ]
  },
  {
   "cell_type": "code",
   "execution_count": 9,
   "metadata": {},
   "outputs": [
    {
     "data": {
      "text/plain": [
       "7"
      ]
     },
     "execution_count": 9,
     "metadata": {},
     "output_type": "execute_result"
    }
   ],
   "source": [
    "random_forest.n_classes_"
   ]
  },
  {
   "cell_type": "markdown",
   "metadata": {},
   "source": [
    "## Evaluation"
   ]
  },
  {
   "cell_type": "code",
   "execution_count": 10,
   "metadata": {},
   "outputs": [],
   "source": [
    "test = pd.read_csv('/data/covertype2/test.csv')"
   ]
  },
  {
   "cell_type": "code",
   "execution_count": 11,
   "metadata": {},
   "outputs": [
    {
     "name": "stderr",
     "output_type": "stream",
     "text": [
      "/opt/conda/lib/python3.6/site-packages/ipykernel_launcher.py:14: FutureWarning: reshape is deprecated and will raise in a subsequent release. Please use .values.reshape(...) instead\n",
      "  \n",
      "/opt/conda/lib/python3.6/site-packages/ipykernel_launcher.py:15: FutureWarning: reshape is deprecated and will raise in a subsequent release. Please use .values.reshape(...) instead\n",
      "  from ipykernel import kernelapp as app\n"
     ]
    }
   ],
   "source": [
    "test_procesed, _ = convert_categorical_features(test)"
   ]
  },
  {
   "cell_type": "code",
   "execution_count": 12,
   "metadata": {},
   "outputs": [
    {
     "data": {
      "text/html": [
       "<div>\n",
       "<table border=\"1\" class=\"dataframe\">\n",
       "  <thead>\n",
       "    <tr style=\"text-align: right;\">\n",
       "      <th></th>\n",
       "      <th>Elevation</th>\n",
       "      <th>Aspect</th>\n",
       "      <th>Slope</th>\n",
       "      <th>Horizontal_Distance_To_Hydrology</th>\n",
       "      <th>Vertical_Distance_To_Hydrology</th>\n",
       "      <th>Horizontal_Distance_To_Roadways</th>\n",
       "      <th>Hillshade_9am</th>\n",
       "      <th>Hillshade_Noon</th>\n",
       "      <th>Hillshade_3pm</th>\n",
       "      <th>Horizontal_Distance_To_Fire_Points</th>\n",
       "      <th>...</th>\n",
       "      <th>Soil_Type_Rock outcrop - Cryumbrepts - Cryorthents complex, extremely stony.</th>\n",
       "      <th>Soil_Type_Rogert family, very stony.</th>\n",
       "      <th>Soil_Type_Supervisor - Limber families complex.</th>\n",
       "      <th>Soil_Type_Troutville family, very stony.</th>\n",
       "      <th>Soil_Type_Typic Cryaquepts - Typic Cryaquolls complex.</th>\n",
       "      <th>Soil_Type_Typic Cryaquolis - Borohemists complex.</th>\n",
       "      <th>Soil_Type_Typic Cryaquolls - Leighcan family, till substratum complex.</th>\n",
       "      <th>Soil_Type_Vanet - Ratake families complex, very stony.</th>\n",
       "      <th>Soil_Type_Vanet - Wetmore families - Rock outcrop complex, stony.</th>\n",
       "      <th>Soil_Type_Vanet family - Rock outcrop complex complex, rubbly.</th>\n",
       "    </tr>\n",
       "  </thead>\n",
       "  <tbody>\n",
       "    <tr>\n",
       "      <th>0</th>\n",
       "      <td>2025</td>\n",
       "      <td>44</td>\n",
       "      <td>40</td>\n",
       "      <td>95</td>\n",
       "      <td>75</td>\n",
       "      <td>124</td>\n",
       "      <td>197</td>\n",
       "      <td>125</td>\n",
       "      <td>30</td>\n",
       "      <td>216</td>\n",
       "      <td>...</td>\n",
       "      <td>0.0</td>\n",
       "      <td>0.0</td>\n",
       "      <td>0.0</td>\n",
       "      <td>0.0</td>\n",
       "      <td>0.0</td>\n",
       "      <td>0.0</td>\n",
       "      <td>0.0</td>\n",
       "      <td>0.0</td>\n",
       "      <td>0.0</td>\n",
       "      <td>0.0</td>\n",
       "    </tr>\n",
       "    <tr>\n",
       "      <th>1</th>\n",
       "      <td>3092</td>\n",
       "      <td>52</td>\n",
       "      <td>18</td>\n",
       "      <td>182</td>\n",
       "      <td>39</td>\n",
       "      <td>4425</td>\n",
       "      <td>226</td>\n",
       "      <td>197</td>\n",
       "      <td>98</td>\n",
       "      <td>2408</td>\n",
       "      <td>...</td>\n",
       "      <td>0.0</td>\n",
       "      <td>0.0</td>\n",
       "      <td>0.0</td>\n",
       "      <td>0.0</td>\n",
       "      <td>0.0</td>\n",
       "      <td>0.0</td>\n",
       "      <td>0.0</td>\n",
       "      <td>0.0</td>\n",
       "      <td>0.0</td>\n",
       "      <td>0.0</td>\n",
       "    </tr>\n",
       "    <tr>\n",
       "      <th>2</th>\n",
       "      <td>3403</td>\n",
       "      <td>346</td>\n",
       "      <td>16</td>\n",
       "      <td>698</td>\n",
       "      <td>111</td>\n",
       "      <td>2505</td>\n",
       "      <td>188</td>\n",
       "      <td>213</td>\n",
       "      <td>163</td>\n",
       "      <td>1254</td>\n",
       "      <td>...</td>\n",
       "      <td>0.0</td>\n",
       "      <td>0.0</td>\n",
       "      <td>0.0</td>\n",
       "      <td>0.0</td>\n",
       "      <td>0.0</td>\n",
       "      <td>0.0</td>\n",
       "      <td>0.0</td>\n",
       "      <td>0.0</td>\n",
       "      <td>0.0</td>\n",
       "      <td>0.0</td>\n",
       "    </tr>\n",
       "    <tr>\n",
       "      <th>3</th>\n",
       "      <td>2783</td>\n",
       "      <td>186</td>\n",
       "      <td>9</td>\n",
       "      <td>60</td>\n",
       "      <td>5</td>\n",
       "      <td>1834</td>\n",
       "      <td>222</td>\n",
       "      <td>247</td>\n",
       "      <td>159</td>\n",
       "      <td>2318</td>\n",
       "      <td>...</td>\n",
       "      <td>0.0</td>\n",
       "      <td>0.0</td>\n",
       "      <td>0.0</td>\n",
       "      <td>0.0</td>\n",
       "      <td>0.0</td>\n",
       "      <td>0.0</td>\n",
       "      <td>0.0</td>\n",
       "      <td>0.0</td>\n",
       "      <td>0.0</td>\n",
       "      <td>0.0</td>\n",
       "    </tr>\n",
       "    <tr>\n",
       "      <th>4</th>\n",
       "      <td>3081</td>\n",
       "      <td>184</td>\n",
       "      <td>12</td>\n",
       "      <td>503</td>\n",
       "      <td>22</td>\n",
       "      <td>360</td>\n",
       "      <td>222</td>\n",
       "      <td>248</td>\n",
       "      <td>157</td>\n",
       "      <td>1276</td>\n",
       "      <td>...</td>\n",
       "      <td>0.0</td>\n",
       "      <td>0.0</td>\n",
       "      <td>0.0</td>\n",
       "      <td>0.0</td>\n",
       "      <td>0.0</td>\n",
       "      <td>0.0</td>\n",
       "      <td>0.0</td>\n",
       "      <td>0.0</td>\n",
       "      <td>0.0</td>\n",
       "      <td>0.0</td>\n",
       "    </tr>\n",
       "  </tbody>\n",
       "</table>\n",
       "<p>5 rows × 54 columns</p>\n",
       "</div>"
      ],
      "text/plain": [
       "   Elevation  Aspect  Slope  Horizontal_Distance_To_Hydrology  \\\n",
       "0       2025      44     40                                95   \n",
       "1       3092      52     18                               182   \n",
       "2       3403     346     16                               698   \n",
       "3       2783     186      9                                60   \n",
       "4       3081     184     12                               503   \n",
       "\n",
       "   Vertical_Distance_To_Hydrology  Horizontal_Distance_To_Roadways  \\\n",
       "0                              75                              124   \n",
       "1                              39                             4425   \n",
       "2                             111                             2505   \n",
       "3                               5                             1834   \n",
       "4                              22                              360   \n",
       "\n",
       "   Hillshade_9am  Hillshade_Noon  Hillshade_3pm  \\\n",
       "0            197             125             30   \n",
       "1            226             197             98   \n",
       "2            188             213            163   \n",
       "3            222             247            159   \n",
       "4            222             248            157   \n",
       "\n",
       "   Horizontal_Distance_To_Fire_Points  \\\n",
       "0                                 216   \n",
       "1                                2408   \n",
       "2                                1254   \n",
       "3                                2318   \n",
       "4                                1276   \n",
       "\n",
       "                                ...                                \\\n",
       "0                               ...                                 \n",
       "1                               ...                                 \n",
       "2                               ...                                 \n",
       "3                               ...                                 \n",
       "4                               ...                                 \n",
       "\n",
       "   Soil_Type_Rock outcrop - Cryumbrepts - Cryorthents complex, extremely stony.  \\\n",
       "0                                                0.0                              \n",
       "1                                                0.0                              \n",
       "2                                                0.0                              \n",
       "3                                                0.0                              \n",
       "4                                                0.0                              \n",
       "\n",
       "   Soil_Type_Rogert family, very stony.  \\\n",
       "0                                   0.0   \n",
       "1                                   0.0   \n",
       "2                                   0.0   \n",
       "3                                   0.0   \n",
       "4                                   0.0   \n",
       "\n",
       "   Soil_Type_Supervisor - Limber families complex.  \\\n",
       "0                                              0.0   \n",
       "1                                              0.0   \n",
       "2                                              0.0   \n",
       "3                                              0.0   \n",
       "4                                              0.0   \n",
       "\n",
       "   Soil_Type_Troutville family, very stony.  \\\n",
       "0                                       0.0   \n",
       "1                                       0.0   \n",
       "2                                       0.0   \n",
       "3                                       0.0   \n",
       "4                                       0.0   \n",
       "\n",
       "   Soil_Type_Typic Cryaquepts - Typic Cryaquolls complex.  \\\n",
       "0                                                0.0        \n",
       "1                                                0.0        \n",
       "2                                                0.0        \n",
       "3                                                0.0        \n",
       "4                                                0.0        \n",
       "\n",
       "   Soil_Type_Typic Cryaquolis - Borohemists complex.  \\\n",
       "0                                                0.0   \n",
       "1                                                0.0   \n",
       "2                                                0.0   \n",
       "3                                                0.0   \n",
       "4                                                0.0   \n",
       "\n",
       "   Soil_Type_Typic Cryaquolls - Leighcan family, till substratum complex.  \\\n",
       "0                                                0.0                        \n",
       "1                                                0.0                        \n",
       "2                                                0.0                        \n",
       "3                                                0.0                        \n",
       "4                                                0.0                        \n",
       "\n",
       "   Soil_Type_Vanet - Ratake families complex, very stony.  \\\n",
       "0                                                0.0        \n",
       "1                                                0.0        \n",
       "2                                                0.0        \n",
       "3                                                0.0        \n",
       "4                                                0.0        \n",
       "\n",
       "   Soil_Type_Vanet - Wetmore families - Rock outcrop complex, stony.  \\\n",
       "0                                                0.0                   \n",
       "1                                                0.0                   \n",
       "2                                                0.0                   \n",
       "3                                                0.0                   \n",
       "4                                                0.0                   \n",
       "\n",
       "   Soil_Type_Vanet family - Rock outcrop complex complex, rubbly.  \n",
       "0                                                0.0               \n",
       "1                                                0.0               \n",
       "2                                                0.0               \n",
       "3                                                0.0               \n",
       "4                                                0.0               \n",
       "\n",
       "[5 rows x 54 columns]"
      ]
     },
     "execution_count": 12,
     "metadata": {},
     "output_type": "execute_result"
    }
   ],
   "source": [
    "test_procesed.head()"
   ]
  },
  {
   "cell_type": "code",
   "execution_count": 13,
   "metadata": {},
   "outputs": [],
   "source": [
    "y_test = test_procesed['Target']\n",
    "X_test = test_procesed.drop('Target', axis=1)"
   ]
  },
  {
   "cell_type": "code",
   "execution_count": 14,
   "metadata": {},
   "outputs": [],
   "source": [
    "for column in X.columns:\n",
    "    if not column in X_test.columns:\n",
    "        X_test[column] = 0"
   ]
  },
  {
   "cell_type": "code",
   "execution_count": 15,
   "metadata": {},
   "outputs": [
    {
     "name": "stderr",
     "output_type": "stream",
     "text": [
      "[Parallel(n_jobs=3)]: Done   3 out of   3 | elapsed:    0.1s finished\n"
     ]
    }
   ],
   "source": [
    "preds = random_forest.predict(X_test)"
   ]
  },
  {
   "cell_type": "code",
   "execution_count": 16,
   "metadata": {},
   "outputs": [
    {
     "data": {
      "text/plain": [
       "0.9122103771791904"
      ]
     },
     "execution_count": 16,
     "metadata": {},
     "output_type": "execute_result"
    }
   ],
   "source": [
    "(y_test == preds).value_counts().loc[True] / len(y_test)"
   ]
  },
  {
   "cell_type": "markdown",
   "metadata": {},
   "source": [
    "## Hyper parameter tuning"
   ]
  },
  {
   "cell_type": "code",
   "execution_count": 17,
   "metadata": {},
   "outputs": [
    {
     "name": "stderr",
     "output_type": "stream",
     "text": [
      "[Parallel(n_jobs=-1)]: Done   1 out of   1 | elapsed:    2.1s finished\n",
      "[Parallel(n_jobs=1)]: Done   1 out of   1 | elapsed:    0.0s finished\n"
     ]
    },
    {
     "name": "stdout",
     "output_type": "stream",
     "text": [
      "n_estimators: 1, accuracy: 0.8754254712580127\n"
     ]
    },
    {
     "name": "stderr",
     "output_type": "stream",
     "text": [
      "[Parallel(n_jobs=-1)]: Done   6 out of  10 | elapsed:    8.2s remaining:    5.5s\n",
      "[Parallel(n_jobs=-1)]: Done  10 out of  10 | elapsed:   10.3s finished\n",
      "[Parallel(n_jobs=8)]: Done   6 out of  10 | elapsed:    0.1s remaining:    0.1s\n",
      "[Parallel(n_jobs=8)]: Done  10 out of  10 | elapsed:    0.2s finished\n"
     ]
    },
    {
     "name": "stdout",
     "output_type": "stream",
     "text": [
      "n_estimators: 10, accuracy: 0.9431380341068127\n"
     ]
    },
    {
     "name": "stderr",
     "output_type": "stream",
     "text": [
      "[Parallel(n_jobs=-1)]: Done  30 out of  30 | elapsed:   31.0s finished\n",
      "[Parallel(n_jobs=8)]: Done  30 out of  30 | elapsed:    0.5s finished\n"
     ]
    },
    {
     "name": "stdout",
     "output_type": "stream",
     "text": [
      "n_estimators: 30, accuracy: 0.9531765640928175\n"
     ]
    },
    {
     "name": "stderr",
     "output_type": "stream",
     "text": [
      "[Parallel(n_jobs=-1)]: Done  34 tasks      | elapsed:   39.6s\n",
      "[Parallel(n_jobs=-1)]: Done  50 out of  50 | elapsed:   53.2s finished\n",
      "[Parallel(n_jobs=8)]: Done  34 tasks      | elapsed:    0.6s\n",
      "[Parallel(n_jobs=8)]: Done  50 out of  50 | elapsed:    0.8s finished\n"
     ]
    },
    {
     "name": "stdout",
     "output_type": "stream",
     "text": [
      "n_estimators: 50, accuracy: 0.9535221245054166\n"
     ]
    }
   ],
   "source": [
    "import numpy as np\n",
    "trained_estimators = {}\n",
    "for n_estimators in [1, 10, 30, 50]:\n",
    "    random_forest = RandomForestClassifier(n_estimators=n_estimators, criterion='gini', max_features='sqrt', max_depth=None, n_jobs=-1, verbose=1)\n",
    "    random_forest.fit(X, y)\n",
    "    preds = random_forest.predict(X_test)\n",
    "    accuracy = np.sum(y_test == preds) / len(y_test)\n",
    "    print('n_estimators: {}, accuracy: {}'.format(n_estimators, accuracy))\n",
    "    trained_estimators[n_estimators]= random_forest"
   ]
  }
 ],
 "metadata": {
  "kernelspec": {
   "display_name": "Python 3",
   "language": "python",
   "name": "python3"
  },
  "language_info": {
   "codemirror_mode": {
    "name": "ipython",
    "version": 3
   },
   "file_extension": ".py",
   "mimetype": "text/x-python",
   "name": "python",
   "nbconvert_exporter": "python",
   "pygments_lexer": "ipython3",
   "version": "3.6.2"
  }
 },
 "nbformat": 4,
 "nbformat_minor": 2
}
